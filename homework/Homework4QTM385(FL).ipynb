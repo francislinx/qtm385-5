{
 "cells": [
  {
   "cell_type": "markdown",
   "metadata": {},
   "source": [
    "# QTM 385\n",
    "\n",
    "***\n",
    "\n",
    "## Homework 4\n",
    "\n",
    "Student: [Francis Lin 2402538]"
   ]
  },
  {
   "cell_type": "markdown",
   "metadata": {},
   "source": [
    "In this homework, we will create an object called Student, that is useful for a professor to store information about a student."
   ]
  },
  {
   "cell_type": "markdown",
   "metadata": {},
   "source": [
    "\n",
    "***\n",
    "\n",
    "### Question 1\n",
    "\n",
    "Create a class Student, that has:\n",
    "\n",
    "0. Id number (5-digits integer, starting with 1)\n",
    "1. First Name (str)\n",
    "2. Last Name (str)\n",
    "3. Grades (list of floats)\n",
    "4. Credits (list of integers)\n",
    "5. Major (str)\n",
    "\n",
    "Provide a constructor for your class and create one fictitious student."
   ]
  },
  {
   "cell_type": "code",
   "execution_count": 2,
   "metadata": {},
   "outputs": [],
   "source": [
    "class Student:\n",
    "    def __init__(self, idnum, firstnam, lastnam, gr, cr, maj):\n",
    "        self.idnumber  = idnum\n",
    "        self.firstname = firstnam\n",
    "        self.lastname  = lastnam\n",
    "        self.grades    = gr\n",
    "        self.credits   = cr\n",
    "        self.major     = maj"
   ]
  },
  {
   "cell_type": "code",
   "execution_count": 4,
   "metadata": {},
   "outputs": [],
   "source": [
    "FL = Student(12345, 'Frank', 'Lin', [3.9, 3.8, 3.9], [17, 22, 18], 'QSS')"
   ]
  },
  {
   "cell_type": "markdown",
   "metadata": {},
   "source": [
    "\n",
    "***\n",
    "\n",
    "### Question 2\n",
    "\n",
    "Create a method to nicely display the student when we type `print`. It should display, for example:\n",
    "\n",
    "```\n",
    "Student:\n",
    "    Id: 12345\n",
    "    Name: Mig, Umberto\n",
    "    Major: QSS\n",
    "```\n",
    "\n",
    "Create a method that, when a variable storing a student is typed in the console, displays:\n",
    "\n",
    "```\n",
    "Student(Mig, Umberto; 12345)\n",
    "```\n",
    "\n",
    "Provide some testing with a fictitious result of your choice."
   ]
  },
  {
   "cell_type": "code",
   "execution_count": 5,
   "metadata": {},
   "outputs": [],
   "source": [
    "class Student:\n",
    "    def __init__(self, idnum, firstnam, lastnam, gr, cr, maj):\n",
    "        self.idnumber  = idnum\n",
    "        self.firstname = firstnam\n",
    "        self.lastname  = lastnam\n",
    "        self.grades    = gr\n",
    "        self.credits   = cr\n",
    "        self.major     = maj\n",
    "    \n",
    "    def __str__(self):\n",
    "        st_info = \"\"\"\n",
    "Student:\n",
    "    Id: {idnum}\n",
    "    Name: {firstnam}, {lastnam}\n",
    "    Major: {maj}\n",
    "    \"\"\".format(idnum = self.idnumber, firstnam = self.firstname, lastnam = self.lastname, maj = self.major)\n",
    "        return st_info"
   ]
  },
  {
   "cell_type": "code",
   "execution_count": 6,
   "metadata": {},
   "outputs": [
    {
     "name": "stdout",
     "output_type": "stream",
     "text": [
      "\n",
      "Student:\n",
      "    Id: 12345\n",
      "    Name: Frank, Lin\n",
      "    Major: QSS\n",
      "    \n"
     ]
    }
   ],
   "source": [
    "FL = Student(12345, 'Frank', 'Lin', [3.9, 3.8, 3.9], [17, 22, 18], 'QSS')\n",
    "print(FL)"
   ]
  },
  {
   "cell_type": "markdown",
   "metadata": {},
   "source": [
    "\n",
    "***\n",
    "\n",
    "### Question 3\n",
    "\n",
    "Implement class methods for:\n",
    "\n",
    "1. Check if the id number is valid (remember: 5 digits, starting with number one)\n",
    "2. Check if the grades list has the same length as the credits list. The idea is that every grade corresponds to a course that gave the student a certain amount of credits.\n",
    "3. Append grade and credit: given a grade, and credits attached to the grade, append both to each respective place.\n",
    "\n",
    "Test your function with a toy student of your choice."
   ]
  },
  {
   "cell_type": "code",
   "execution_count": 42,
   "metadata": {},
   "outputs": [],
   "source": [
    "class Student:\n",
    "    def __init__(self, idnum, firstnam, lastnam, gr, cr, maj):\n",
    "        self.idnumber     = idnum\n",
    "        self.firstname    = firstnam\n",
    "        self.lastname     = lastnam\n",
    "        self.grades       = gr\n",
    "        self.credits      = cr\n",
    "        self.major        = maj\n",
    "        self.idnumberlist = list(map(int, str(self.idnumber)))\n",
    "    \n",
    "    def __str__(self):\n",
    "        st_info = \"\"\"\n",
    "Student:\n",
    "    Id: {idnum}\n",
    "    Name: {firstnam}, {lastnam}\n",
    "    Major: {maj}\n",
    "    \"\"\".format(idnum = self.idnumber, firstnam = self.firstname, lastnam = self.lastname, maj = self.major)\n",
    "        return st_info\n",
    "    \n",
    "    def check_validID(self):\n",
    "        if self.idnumberlist[0] == 1 and len(self.idnumberlist) == 5:\n",
    "            return 'Yes'\n",
    "        else:\n",
    "            return 'No'\n",
    "    \n",
    "    def check_validgrlen(self):\n",
    "        if len(self.grades) == len(self.credits):\n",
    "            return 'Yes'\n",
    "        else:\n",
    "            return 'No'\n",
    "    \n",
    "    def append_gr_cr(self, newgr, newcr):\n",
    "        self.grades.append(newgr)\n",
    "        self.credits.append(newcr)"
   ]
  },
  {
   "cell_type": "code",
   "execution_count": 47,
   "metadata": {},
   "outputs": [
    {
     "name": "stdout",
     "output_type": "stream",
     "text": [
      "Yes\n",
      "Yes\n",
      "[3.9, 3.8, 3.9, 4.0]\n",
      "[17, 22, 18, 22]\n"
     ]
    }
   ],
   "source": [
    "FL = Student(12345, 'Frank', 'Lin', [3.9, 3.8, 3.9], [17, 22, 18], 'QSS')\n",
    "print(FL.check_validID())\n",
    "print(FL.check_validgrlen())\n",
    "\n",
    "FL.append_gr_cr(4.0, 22)\n",
    "print(FL.grades)\n",
    "print(FL.credits)"
   ]
  },
  {
   "cell_type": "markdown",
   "metadata": {},
   "source": [
    "\n",
    "***\n",
    "\n",
    "### Question 4\n",
    "\n",
    "Create a module in the class Student that computes the unweighted average of the student's grades."
   ]
  },
  {
   "cell_type": "code",
   "execution_count": 48,
   "metadata": {},
   "outputs": [],
   "source": [
    "class Student:\n",
    "    def __init__(self, idnum, firstnam, lastnam, gr, cr, maj):\n",
    "        self.idnumber     = idnum\n",
    "        self.firstname    = firstnam\n",
    "        self.lastname     = lastnam\n",
    "        self.grades       = gr\n",
    "        self.credits      = cr\n",
    "        self.major        = maj\n",
    "        self.idnumberlist = list(map(int, str(self.idnumber)))\n",
    "    \n",
    "    def __str__(self):\n",
    "        st_info = \"\"\"\n",
    "Student:\n",
    "    Id: {idnum}\n",
    "    Name: {firstnam}, {lastnam}\n",
    "    Major: {maj}\n",
    "    \"\"\".format(idnum = self.idnumber, firstnam = self.firstname, lastnam = self.lastname, maj = self.major)\n",
    "        return st_info\n",
    "    \n",
    "    def check_validID(self):\n",
    "        if self.idnumberlist[0] == 1 and len(self.idnumberlist) == 5:\n",
    "            return 'Yes'\n",
    "        else:\n",
    "            return 'No'\n",
    "    \n",
    "    def check_validgrlen(self):\n",
    "        if len(self.grades) == len(self.credits):\n",
    "            return 'Yes'\n",
    "        else:\n",
    "            return 'No'\n",
    "    \n",
    "    def append_gr_cr(self, newgr, newcr):\n",
    "        self.grades.append(newgr)\n",
    "        self.credits.append(newcr)\n",
    "        \n",
    "    def avg_gr_unweighted(self):\n",
    "        avg = 0\n",
    "        for i in self.grades:\n",
    "            avg += i\n",
    "        avg = avg/len(self.grades)\n",
    "        return avg"
   ]
  },
  {
   "cell_type": "code",
   "execution_count": 49,
   "metadata": {},
   "outputs": [
    {
     "data": {
      "text/plain": [
       "3.8666666666666667"
      ]
     },
     "execution_count": 49,
     "metadata": {},
     "output_type": "execute_result"
    }
   ],
   "source": [
    "FL = Student(12345, 'Frank', 'Lin', [3.9, 3.8, 3.9], [17, 22, 18], 'QSS')\n",
    "\n",
    "FL.avg_gr_unweighted()"
   ]
  },
  {
   "cell_type": "markdown",
   "metadata": {},
   "source": [
    "\n",
    "***\n",
    "\n",
    "### Question 5\n",
    "\n",
    "Create a module in the class Student that computes the weighted average of the student's grades, weighted by the credits."
   ]
  },
  {
   "cell_type": "code",
   "execution_count": 55,
   "metadata": {},
   "outputs": [],
   "source": [
    "class Student:\n",
    "    def __init__(self, idnum, firstnam, lastnam, gr, cr, maj):\n",
    "        self.idnumber     = idnum\n",
    "        self.firstname    = firstnam\n",
    "        self.lastname     = lastnam\n",
    "        self.grades       = gr\n",
    "        self.credits      = cr\n",
    "        self.major        = maj\n",
    "        self.idnumberlist = list(map(int, str(self.idnumber)))\n",
    "    \n",
    "    def __str__(self):\n",
    "        st_info = \"\"\"\n",
    "Student:\n",
    "    Id: {idnum}\n",
    "    Name: {firstnam}, {lastnam}\n",
    "    Major: {maj}\n",
    "    \"\"\".format(idnum = self.idnumber, firstnam = self.firstname, lastnam = self.lastname, maj = self.major)\n",
    "        return st_info\n",
    "    \n",
    "    def check_validID(self):\n",
    "        if self.idnumberlist[0] == 1 and len(self.idnumberlist) == 5:\n",
    "            return 'Yes'\n",
    "        else:\n",
    "            return 'No'\n",
    "    \n",
    "    def check_validgrlen(self):\n",
    "        if len(self.grades) == len(self.credits):\n",
    "            return 'Yes'\n",
    "        else:\n",
    "            return 'No'\n",
    "    \n",
    "    def append_gr_cr(self, newgr, newcr):\n",
    "        self.grades.append(newgr)\n",
    "        self.credits.append(newcr)\n",
    "        \n",
    "    def avg_gr_unweighted(self):\n",
    "        avg = 0\n",
    "        for i in self.grades:\n",
    "            avg += i\n",
    "        avg = avg/len(self.grades)\n",
    "        return avg\n",
    "    \n",
    "    def avg_gr_weighted(self):\n",
    "        avg = 0\n",
    "        for i in self.grades:\n",
    "            for j in self.credits:\n",
    "                avg = avg + i*j\n",
    "        avg = avg/sum(self.credits)\n",
    "        return avg"
   ]
  },
  {
   "cell_type": "code",
   "execution_count": 56,
   "metadata": {},
   "outputs": [
    {
     "data": {
      "text/plain": [
       "11.600000000000001"
      ]
     },
     "execution_count": 56,
     "metadata": {},
     "output_type": "execute_result"
    }
   ],
   "source": [
    "FL = Student(12345, 'Frank', 'Lin', [3.9, 3.8, 3.9], [17, 22, 18], 'QSS')\n",
    "\n",
    "FL.avg_gr_weighted()"
   ]
  },
  {
   "cell_type": "markdown",
   "metadata": {},
   "source": [
    "**That's all, folks!**"
   ]
  }
 ],
 "metadata": {
  "kernelspec": {
   "display_name": "Python 3",
   "language": "python",
   "name": "python3"
  },
  "language_info": {
   "codemirror_mode": {
    "name": "ipython",
    "version": 3
   },
   "file_extension": ".py",
   "mimetype": "text/x-python",
   "name": "python",
   "nbconvert_exporter": "python",
   "pygments_lexer": "ipython3",
   "version": "3.8.8"
  }
 },
 "nbformat": 4,
 "nbformat_minor": 4
}
