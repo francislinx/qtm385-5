{
  "nbformat": 4,
  "nbformat_minor": 5,
  "metadata": {
    "kernelspec": {
      "display_name": "Python 3",
      "language": "python",
      "name": "python3"
    },
    "language_info": {
      "codemirror_mode": {
        "name": "ipython",
        "version": 3
      },
      "file_extension": ".py",
      "mimetype": "text/x-python",
      "name": "python",
      "nbconvert_exporter": "python",
      "pygments_lexer": "ipython3",
      "version": "3.8.8"
    },
    "colab": {
      "name": "MidtermMyLinalgClassFinal(FL).ipynb",
      "provenance": []
    }
  },
  "cells": [
    {
      "cell_type": "markdown",
      "metadata": {
        "id": "07e6385b"
      },
      "source": [
        "# QTM 385\n",
        "\n",
        "***\n",
        "\n",
        "## Midterm\n",
        "\n",
        "Student: [Francis Lin 2402538]\n",
        "\n",
        "***"
      ],
      "id": "07e6385b"
    },
    {
      "cell_type": "markdown",
      "metadata": {
        "id": "Yo2Br9EF0SdV"
      },
      "source": [
        "## Computational Linear Algebra in Python: Regression Calculator"
      ],
      "id": "Yo2Br9EF0SdV"
    },
    {
      "cell_type": "markdown",
      "metadata": {
        "id": "99ae1dd8"
      },
      "source": [
        "In this midterm, you will create a class to work with matrices. The objective is to run a regression.\n",
        "\n",
        "The class name should be `Matrix.` To make it easier for you to code and for me to grade, I suggest the following step-by-step:\n",
        "\n",
        "### 1. **constructor** (1 pt):\n",
        "\n",
        "In the constructor, the user should pass a list of numbers and a number of rows. Example:\n",
        "\n",
        "```\n",
        "m = Matrix([1,2,3,1,2,4], 2)\n",
        "```\n",
        "\n",
        "It should then store the following inside the memory:\n",
        "\n",
        "```\n",
        "print(m.mat)\n",
        "[[1,2,3],[1,2,4]]\n",
        "\n",
        "print(m.dim)\n",
        "[2, 3]\n",
        "```\n",
        "\n",
        "Representing the 2 x 3 matrix:\n",
        "\n",
        "|1, 2, 3|<br>\n",
        "|4, 5, 6|\n",
        "\n",
        "### 2. **\\_\\_str\\_\\_**, **\\_\\_repr\\_\\_**, and **is_square** (1 pt):\n",
        "\n",
        "Implement the **\\_\\_repr\\_\\_** for displaying the following:\n",
        "\n",
        "```\n",
        "m\n",
        "Matrix dimension [2, 3]\n",
        "```\n",
        "\n",
        "You should also implement a **\\_\\_str\\_\\_** representation for your matrix. For example, for the previous matrix:\n",
        "\n",
        "```\n",
        "print(m)\n",
        "[1, 2, 3]\n",
        "[4, 5, 6]\n",
        "```\n",
        "\n",
        "Finally, implement an **is_square** method that returns `True` when the matrix is square. Example:\n",
        "\n",
        "```\n",
        "m1 = Matrix([1,2,3,1,2,4], 2)\n",
        "m2 = Matrix([-2,-1,2,2,1,4,-3,3,-1], 3)\n",
        "\n",
        "print(m1.is_square())\n",
        "False\n",
        "\n",
        "print(m2.is_square())\n",
        "True\n",
        "```\n",
        "\n",
        "### 3. **\\_\\_add\\_\\_** and **\\_\\_sub\\_\\_** (1 pt):\n",
        "\n",
        "You will implement two methods: the sum of matrices (**\\_\\_add\\_\\_**) and the subtraction (**\\_\\_sub\\_\\_**). Using these methods ensures that the operations `m1 + m2` and `m1 - m2` are well-defined.\n",
        "\n",
        "Remember that sum and subtraction are only defined if the matrices have the same size. I advise you to do the following:\n",
        "\n",
        "```\n",
        "...some code before...\n",
        "\n",
        "    if ---matrix-do-not-conform-test---:\n",
        "        raise ValueError('Error. The matrices do not conform.')\n",
        "    else:\n",
        "        ...code here...\n",
        "\n",
        "...some code after...\n",
        "```\n",
        "\n",
        "This raises an error and tells the user about it.\n",
        "\n",
        "For the theory on matrix summation, see: https://en.wikipedia.org/wiki/Matrix_addition\n",
        "\n",
        "### 4. Implement a method for scalar multiplication (**\\_\\_mul\\_\\_**) (1 pt)\n",
        "\n",
        "In this part, you will implement the method to do scalar multiplications. For the theory regarding scalar multiplication, see: https://en.wikipedia.org/wiki/Scalar_multiplication\n",
        "\n",
        "The multiplication should proceed as follows:\n",
        "\n",
        "```\n",
        "m = Matrix([1,2,3,1,2,4], 2)\n",
        "\n",
        "print(m)\n",
        "[1, 2, 3]\n",
        "[1, 2, 4]\n",
        "\n",
        "print(m * 2)\n",
        "[2, 4, 6]\n",
        "[2, 4, 8]\n",
        "```\n",
        "\n",
        "Note that `2 * m` in matrix algebra is well-defined, but your method should throw an error.\n",
        "\n",
        "### 5. Implement a method to extract rows (**exrow**) and columns (**excol**) of a matrix (1 pt)\n",
        "\n",
        "These two methods are auxiliary to matrix multiplication. They are going to make it easy to do the matrix multiplication.\n",
        "\n",
        "For the row extraction, the input is the matrix and a row. It should return a list with the row. One example is:\n",
        "\n",
        "```\n",
        "m = Matrix([1,2,3,1,2,4], 2)\n",
        "\n",
        "print(m)\n",
        "[1, 2, 3]\n",
        "[1, 2, 4]\n",
        "\n",
        "print(m.exrow(0))\n",
        "[1, 2, 3]\n",
        "\n",
        "print(m.exrow(1))\n",
        "[1, 2, 4]\n",
        "```\n",
        "\n",
        "And if you choose a row that does not exist, it should throw an error (e.g., 'Error. Invalid row.').\n",
        "\n",
        "For the column extraction, the input is the matrix and a column. It should return a list with the column. One example is:\n",
        "\n",
        "```\n",
        "m = Matrix([1,2,3,1,2,4], 2)\n",
        "\n",
        "print(m)\n",
        "[1, 2, 3]\n",
        "[1, 2, 4]\n",
        "\n",
        "print(m.excol(0))\n",
        "[1, 1]\n",
        "\n",
        "print(m.excol(2))\n",
        "[3, 4]\n",
        "```\n",
        "\n",
        "Again, if you choose a column that does not exist, it should throw an error (e.g., 'Error. Invalid column.').\n",
        "\n",
        "### 6. Implement the matrix multiplication method (**\\_\\_pow\\_\\_**) (1 pt)\n",
        "\n",
        "For learning how matrix multiplication works, check: https://en.wikipedia.org/wiki/Matrix_multiplication\n",
        "\n",
        "In this method, you will implement the following operation:\n",
        "\n",
        "```\n",
        "m1 = Matrix([1,2,3,4,5,6,7,8,9], 3)\n",
        "m2 = Matrix([1,2,3,1,2,4], 3)\n",
        "\n",
        "print(m1)\n",
        "[1, 2, 3]\n",
        "[4, 5, 6]\n",
        "[7, 8, 9]\n",
        "\n",
        "print(m2)\n",
        "[1, 2]\n",
        "[3, 1]\n",
        "[2, 4]\n",
        "\n",
        "print(m1 ** m2)\n",
        "[13, 16]\n",
        "[31, 37]\n",
        "[49, 58]\n",
        "```\n",
        "\n",
        "Note that if you try `m2 ** m1`, it should throw an error (e.g. 'Error. Matrices do not conform for multiplication.').\n",
        "\n",
        "**Hint:** You can use the **excol** and **exrow** methods to extract the rows and columns. Then, check the definition of a dot product: https://en.wikipedia.org/wiki/Dot_product. This should be exactly what you should do with the row and column that you extracted.\n",
        "\n",
        "\n",
        "### 7. Implement the submatrix method for computing minors (**subm**) (1 pt)\n",
        "\n",
        "This method is auxiliary. You will need it to compute the determinant.\n",
        "\n",
        "If you are not sure what a minor is, check this: https://en.wikipedia.org/wiki/Minor_(linear_algebra)\n",
        "\n",
        "To compute the minor, you have to extract a submatrix. For example, if the matrix is:\n",
        "\n",
        "```\n",
        "m = Matrix([1,2,3,4,5,6,7,8,9], 3)\n",
        "\n",
        "print(m)\n",
        "[1, 2, 3]\n",
        "[4, 5, 6]\n",
        "[7, 8, 9]\n",
        "```\n",
        "\n",
        "The minor $M_{2,2}$ is the submatrix:\n",
        "\n",
        "```\n",
        "print(m.subm(1,1))\n",
        "[1, 3]\n",
        "[7, 9]\n",
        "```\n",
        "\n",
        "I.e., you should delete the second row and column:\n",
        "\n",
        "```\n",
        "[1, -, 3]\n",
        "[-, -, -]\n",
        "[7, -, 9]\n",
        "```\n",
        "\n",
        "And return the remaining numbers as a matrix.\n",
        "\n",
        "\n",
        "### 8. Implement the determinant method (**det**) (1 pt)\n",
        "\n",
        "First, if the user tries to compute the determinant in a non-square matrix, the code should throw an error (e.g. 'Error. Matrix is not square.'). Else, it should start the computations.\n",
        "\n",
        "If you don't know what a recursive function is, please read the following entry: https://pythonnumericalmethods.berkeley.edu/notebooks/chapter06.01-Recursive-Functions.html\n",
        "\n",
        "If you don't remember much about how to compute the determinant, check the cofactor expansion method here: https://en.wikipedia.org/wiki/Minor_(linear_algebra)\n",
        "\n",
        "We are going to compute the determinant by using a method called cofactor expansion. It consists of computing the determinant recursively, using the relevant cofactors.\n",
        "\n",
        "The way I solved was:\n",
        "\n",
        "```\n",
        "...some code before...\n",
        "if --matrix_is_2x2--:\n",
        "    return --we-know-the-determinant-here--\n",
        "else:\n",
        "    for --iteration-in-expansion--:\n",
        "        --computations-and-recursion--\n",
        "...some code after...\n",
        "```\n",
        "\n",
        "One code that could give you guidance is in here: https://en.wikipedia.org/wiki/Laplace_expansion\n",
        "\n",
        "To use as examples:\n",
        "\n",
        "```\n",
        "m = Matrix([-2,-1,2,2,1,4,-3,3,-1], 3)\n",
        "\n",
        "print(m)\n",
        "[-2, -1, 2]\n",
        "[2, 1, 4]\n",
        "[-3, 3, -1]\n",
        "\n",
        "m.det()\n",
        "54\n",
        "```\n",
        "\n",
        "And:\n",
        "\n",
        "```\n",
        "m = Matrix([1,2,3,4,5,6,7,8,9], 3)\n",
        "\n",
        "print(m)\n",
        "[1, 2, 3]\n",
        "[4, 5, 6]\n",
        "[7, 8, 9]\n",
        "\n",
        "m.det()\n",
        "0\n",
        "```\n",
        "\n",
        "### 9. Implement the cofactor matrix calculator (**cofm**) and the transpose calculator (**t**) (1 pt)\n",
        "\n",
        "To compute the cofactors, you should use the determinants and the submatrices as above. Example of cofactor computations:\n",
        "\n",
        "```\n",
        "m = Matrix([1,2,3,4,5,6,7,8,9], 3)\n",
        "\n",
        "print(m)\n",
        "[1, 2, 3]\n",
        "[4, 5, 6]\n",
        "[7, 8, 9]\n",
        "\n",
        "print(m.cofm())\n",
        "[-3, 6, -3]\n",
        "[6, -12, 6]\n",
        "[-3, 6, -3]\n",
        "```\n",
        "\n",
        "Or, for a non-singular matrix:\n",
        "\n",
        "```\n",
        "m = Matrix([1,2,3,4,5,6,7,8,9], 3)\n",
        "\n",
        "print(m)\n",
        "[-2, -1, 2]\n",
        "[2, 1, 4]\n",
        "[-3, 3, -1]\n",
        "\n",
        "print(m.cofm())\n",
        "[-13, -10, 9]\n",
        "[5, 8, 9]\n",
        "[-6, 12, 0]\n",
        "```\n",
        "\n",
        "Next, you need to implement a method to compute the transpose. If you are not sure what a transpose matrix is, please read: https://en.wikipedia.org/wiki/Transpose\n",
        "\n",
        "For example:\n",
        "\n",
        "```\n",
        "m = Matrix([1,2,3,4,5,6,7,8,9], 3)\n",
        "\n",
        "print(m)\n",
        "[-2, -1, 2]\n",
        "[2, 1, 4]\n",
        "[-3, 3, -1]\n",
        "\n",
        "print(m.cofm())\n",
        "[-13, -10, 9]\n",
        "[5, 8, 9]\n",
        "[-6, 12, 0]\n",
        "\n",
        "print(m.cofm().t())\n",
        "[-13, 5, -6]\n",
        "[-10, 8, 12]\n",
        "[9, 9, 0]\n",
        "```\n",
        "\n",
        "### 10. Compute the inverse matrix calculator (**inv**) (1 pt):\n",
        "\n",
        "If you did all the steps before, the inverse matrix is going to be straightforward:\n",
        "\n",
        "$$ A^{-1} = \\dfrac{1}{det(A)}C^t $$\n",
        "\n",
        "Where $C$ is the cofactor matrix. For example:\n",
        "\n",
        "```\n",
        "m = Matrix([1,2,3,4,5,6,7,8,9], 3)\n",
        "\n",
        "print(m)\n",
        "[-2, -1, 2]\n",
        "[2, 1, 4]\n",
        "[-3, 3, -1]\n",
        "\n",
        "print(m.inv())\n",
        "[-0.24074074074074073, 0.09259259259259259, -0.1111111111111111]\n",
        "[-0.18518518518518517, 0.14814814814814814, 0.2222222222222222]\n",
        "[0.16666666666666666, 0.16666666666666666, 0.0]\n",
        "```\n",
        "\n",
        "### 11. Compute the regression coefficients for the following matrix (1 pt):\n",
        "\n",
        "The formula for the regression is:\n",
        "\n",
        "$$ \\beta = (X^tX)^{-1}X^ty $$\n",
        "\n",
        "Where $X^t$ is the transpose of $X$. If we have the following data matrix **X**:\n",
        "\n",
        "```\n",
        "X = Matrix([1, -4, 0, 1, -3, 0, 1, -2, 0, 1, -1, 0, 1, 0, 0, 1, 1, 1, 1, 2, 1, 1, 3, 1, 1, 4, 1, 1, 5, 1], 10)\n",
        "```\n",
        "\n",
        "And the data **y**:\n",
        "\n",
        "```\n",
        "y = Matrix([-3.56518269407931, -2.96460021969053, -1.48659413971178, 0.700322671620325, 0.902347734124384, 1.29721825127923, 1.92302031156774, 3.88376671356276, 2.23958110933972, 6.5610333044646], 10)\n",
        "```\n",
        "\n",
        "This represents the formula:\n",
        "\n",
        "$$ y = X\\beta + \\varepsilon $$\n",
        "\n",
        "And for each individual coefficient:\n",
        "\n",
        "$$ y_i = \\beta_0 + \\beta_1 X1_i + \\beta_2 X2_i + \\varepsilon_i $$\n",
        "\n",
        "Computing the formula on these data, you should find a vector of coefficients close to:\n",
        "\n",
        "```\n",
        "[1.0616761356387148]\n",
        "[1.1722087325930488]\n",
        "[-1.3973783953750463]\n",
        "```\n",
        "\n",
        "Which represents:\n",
        "\n",
        "$$ y_i = 1.06 + 1.17 X1 - 1.40 X2 + \\varepsilon_i $$\n",
        "\n",
        "Congrats! You just created a Python package to compute regressions!\n",
        "\n",
        "\n",
        "## **Hints and rules:**\n",
        "\n",
        "1. You cannot use numpy or pandas. In fact, you cannot use any methods besides the default methods.\n",
        "\n",
        "2. In the example coding below, I put URLs that I checked to code the key. Use these URLs. Your job is to transform the ideas there into coding.\n",
        "\n",
        "3. Efficiency is essential, but getting it done is even more critical. Get the first version done, and then check for redundant computations.\n",
        "\n",
        "4. How did I solve it? I implemented one method at a time in the way I described in the questions. The order of the questions is a good predictor of what should be done first and next.\n",
        "\n",
        "5. This is a challenging midterm. It took me six times more than a regular problem set. To do well, you should start as soon as possible.\n",
        "\n",
        "6. The Laplace expansion is computationally expensive. If you want to try to do LU decomposition, please let me know.\n",
        "\n",
        "\n",
        "## **Good luck!**"
      ],
      "id": "99ae1dd8"
    },
    {
      "cell_type": "markdown",
      "metadata": {
        "id": "G2ay26aFvDVd"
      },
      "source": [
        "## Answer"
      ],
      "id": "G2ay26aFvDVd"
    },
    {
      "cell_type": "markdown",
      "metadata": {
        "id": "gD5m9faJvPzw"
      },
      "source": [
        "### Part 1: A Matrix class"
      ],
      "id": "gD5m9faJvPzw"
    },
    {
      "cell_type": "code",
      "metadata": {
        "id": "622aa578"
      },
      "source": [
        "class Matrix:\n",
        "    \"\"\"\n",
        "    Matrix Class\n",
        "    \n",
        "    Great to do Linear Algebra!\n",
        "    \"\"\"\n",
        "    # Constructor\n",
        "    def __init__(self, num, nrow):\n",
        "        \"\"\"\n",
        "        Constructor:\n",
        "        Receives:\n",
        "            num: list of numbers\n",
        "            nrow: number of rows\n",
        "        \n",
        "        Return: \n",
        "            Matrix object\n",
        "        \n",
        "        \"\"\"\n",
        "        self.elem  = num\n",
        "        self.nrow  = int(nrow)\n",
        "        self.ncol  = int(len(self.elem)/self.nrow)\n",
        "        self.dim   = [self.nrow, self.ncol]\n",
        "        self.mat   = [self.elem[i:i+self.ncol] for i in range(0, len(self.elem), self.ncol)]\n",
        "\n",
        "        if len(self.elem) % self.nrow != 0:\n",
        "          raise ValueError('Error. Invalid number of entries')\n",
        "        else:\n",
        "          pass\n",
        "    \n",
        "    # Print represetation\n",
        "    def __str__(self):\n",
        "        \"\"\"\n",
        "        Prints the matrix when using the command print()\n",
        "        \"\"\"\n",
        "        return \"\\n\".join([\"\".join(str(row)) for row in self.mat])\n",
        "        \n",
        "    # Representation\n",
        "    def __repr__(self):\n",
        "        \"\"\"\n",
        "        __repr__:\n",
        "            Prints the object description\n",
        "            In this case, the matrix\n",
        "        \"\"\"\n",
        "        return \"Matrix dimension [{nrow}, {ncol}]\".format(nrow = self.nrow, ncol = self.ncol)\n",
        "    \n",
        "    # Test to see if square matrix\n",
        "    def is_square(self):\n",
        "        \"\"\"\n",
        "        is_square:\n",
        "            Receives:\n",
        "                Matrix\n",
        "                \n",
        "            Return:\n",
        "                True if the matrix is square\n",
        "                False otherwise\n",
        "        \"\"\"\n",
        "        return self.nrow == self.ncol\n",
        "        \n",
        "    # Addition (see https://en.wikipedia.org/wiki/Matrix_addition)\n",
        "    def __add__(self, other):\n",
        "        \"\"\"\n",
        "        __add__:\n",
        "            Implements the sum of matrices\n",
        "            \n",
        "            Receives:\n",
        "                Two matrices\n",
        "                \n",
        "            Returns\n",
        "                Sum of matrices as a Matrix or error if not conform\n",
        "        \"\"\"\n",
        "        if self.dim == other.dim:\n",
        "            sum_elem = [a + b for a, b in zip(self.elem, other.elem)]\n",
        "            sum_mat  = Matrix(sum_elem, self.nrow)\n",
        "            return sum_mat\n",
        "        else:\n",
        "            raise ValueError('Error. The matrices do not conform.')\n",
        "            \n",
        "    # Subtraction\n",
        "    def __sub__(self, other):\n",
        "        \"\"\"\n",
        "        __sub__:\n",
        "            Implements the subtraction of two matrices\n",
        "            \n",
        "            Receives:\n",
        "                Two matrices\n",
        "                \n",
        "            Returns:\n",
        "                Subtraction of matrices as a Matrix or error if not conform\n",
        "        \"\"\"\n",
        "        if self.dim == other.dim:\n",
        "            sum_elem = [a - b for a, b in zip(self.elem, other.elem)]\n",
        "            sum_mat  = Matrix(sum_elem, self.nrow)\n",
        "            return sum_mat\n",
        "        else:\n",
        "            raise ValueError('Error. The matrices do not conform.')\n",
        "        \n",
        "    # Scalar multiplication (https://en.wikipedia.org/wiki/Scalar_multiplication)\n",
        "    def __mul__(self, num):\n",
        "        \"\"\"\n",
        "        __mul__:\n",
        "            Implements scalar multiplication\n",
        "            \n",
        "            Receives:\n",
        "                Matrix\n",
        "                float or int\n",
        "                \n",
        "            Returns:\n",
        "                Matrix\n",
        "        \"\"\"\n",
        "        num = float(num)\n",
        "        mul_elem = [a * num for a in self.elem]\n",
        "        mul_mat  = Matrix(mul_elem, self.nrow)\n",
        "        return mul_mat\n",
        "    \n",
        "    # Extract row\n",
        "    def exrow(self, i):\n",
        "        \"\"\"\n",
        "        exrow:\n",
        "            Extracts row of a Matrix\n",
        "            \n",
        "            Receives:\n",
        "                Matrix\n",
        "                Index (int)\n",
        "                \n",
        "            Returns:\n",
        "                List with row or error if index out of bounds\n",
        "        \"\"\"\n",
        "        if i in range(0, self.nrow):\n",
        "            extracted_row = self.mat[i]\n",
        "            return extracted_row\n",
        "        else:\n",
        "            raise ValueError('Error. Invalid row.')\n",
        "    \n",
        "    # Extract column\n",
        "    def excol(self, i):\n",
        "        \"\"\"\n",
        "        exrow:\n",
        "            Extracts column of a Matrix\n",
        "            \n",
        "            Receives:\n",
        "                Matrix\n",
        "                Index (int)\n",
        "                \n",
        "            Returns:\n",
        "                List with column or error if index out of bounds\n",
        "        \"\"\"\n",
        "        if i in range(0, self.ncol):\n",
        "            extracted_col = [elem[i] for elem in self.mat] \n",
        "            return extracted_col\n",
        "        else:\n",
        "            raise ValueError('Error. Invalid row.')\n",
        "    \n",
        "    # Matrix multiplication (see https://en.wikipedia.org/wiki/Matrix_multiplication)\n",
        "    def __pow__(self, other):\n",
        "        \"\"\"\n",
        "        __pow__:\n",
        "            Implements the product of two matrices\n",
        "            \n",
        "            Receives:\n",
        "                Two Matrices\n",
        "                \n",
        "            Returns:\n",
        "                Matrix or error if not conform\n",
        "        \"\"\"\n",
        "        def dot(x, y):\n",
        "          return sum(x_i*y_i for x_i, y_i in zip(x, y))\n",
        "\n",
        "        if self.ncol == other.nrow:\n",
        "           sum_elem = []\n",
        "           for i in range(0, self.nrow):\n",
        "             for j in range(0, other.ncol):\n",
        "               sum_elem.append(dot(self.exrow(i), other.excol(j)))\n",
        "           sum_mat = Matrix(sum_elem, self.nrow)\n",
        "           return sum_mat\n",
        "        else:\n",
        "           raise ValueError('Error. Matrices do not conform.')\n",
        "\n",
        "    \n",
        "    # Extract submatrix for minor (see https://en.wikipedia.org/wiki/Minor_(linear_algebra))\n",
        "    def subm(self, row_n, col_n):\n",
        "        \"\"\"\n",
        "        subm:\n",
        "            Extracts a submatrix for minor and cofactor computations\n",
        "            \n",
        "            Receives:\n",
        "                Matrix\n",
        "                row (int)\n",
        "                col (int)\n",
        "                \n",
        "            Returns:\n",
        "                Matrix\n",
        "        \"\"\"\n",
        "        minor_rows = [row[:col_n] + row[col_n+1:] for row in (self.mat[:row_n]+self.mat[row_n+1:])]\n",
        "        minor_nrow = self.nrow - 1\n",
        "        minor_elem = []\n",
        "        for rows in minor_rows:\n",
        "          for elem in rows:\n",
        "            minor_elem.append(elem)\n",
        "        return Matrix(minor_elem, minor_nrow)\n",
        "\n",
        "    \n",
        "    # Determinant (see https://en.wikipedia.org/wiki/Determinant)\n",
        "    def det(self):\n",
        "        \"\"\"\n",
        "        det:\n",
        "            Compute the determinant of a matrix by cofactor expansion\n",
        "            \n",
        "            Receives:\n",
        "                Matrix\n",
        "                \n",
        "            Returns:\n",
        "                float, int or an error if matrix is not square.\n",
        "        \"\"\"\n",
        "\n",
        "        if self.dim[0] != self.dim[1]:\n",
        "          raise ValueError('Error. Matrix is not square')\n",
        "        \n",
        "        else:\n",
        "          if self.dim[0] == 2:\n",
        "            return  self.mat[0][0]*self.mat[1][1] - self.mat[0][1]*self.mat[1][0]\n",
        "\n",
        "          det = 0\n",
        "          for x in range(0,self.dim[0]):\n",
        "            subm = self.subm(0,x)\n",
        "\n",
        "            det += ((-1)**x) * self.mat[0][x] * subm.det()\n",
        "          return det\n",
        "          \n",
        "    # Transpose\n",
        "    def t(self):\n",
        "      \"\"\"\n",
        "        t:\n",
        "            Computes the transpose of a matrix\n",
        "            \n",
        "            Receives:\n",
        "                Matrix\n",
        "                \n",
        "            Returns:\n",
        "                Matrix\n",
        "      \"\"\"\n",
        "      def t(list):\n",
        "        return [[list[j][i] for j in range(len(list))] for i in range(len(list[0]))]\n",
        "      t_elem = []\n",
        "      t_nrow = self.ncol\n",
        "      t_mat_rows  = t(self.mat)\n",
        "      for rows in t_mat_rows:\n",
        "        for elem in rows:\n",
        "         t_elem.append(elem)\n",
        "      \n",
        "      t_mat = Matrix(t_elem, t_nrow)\n",
        "      return t_mat\n",
        "\n",
        "    # Cofactor matrix (see https://en.wikipedia.org/wiki/Minor_(linear_algebra))\n",
        "    def cofm(self):\n",
        "        \"\"\"\n",
        "        cofm:\n",
        "            Computes the Cofactor Matrix\n",
        "            \n",
        "            Receives:\n",
        "                Matrix\n",
        "                \n",
        "            Returns:\n",
        "                Matrix or error if matrix not square.\n",
        "        \"\"\"\n",
        "        if self.dim[0] != self.dim[1]:\n",
        "          raise ValueError('Error. Matrix is not square.')\n",
        "        else:\n",
        "          cofm_elem = []\n",
        "          for i in range(0, self.dim[0]):\n",
        "            for j in range(0, self.dim[1]):\n",
        "              sign = (-1)**(i+j)\n",
        "              cofm_elem.append(sign*Matrix.det(self.subm(i,j)))\n",
        "          \n",
        "          cofm_mat = Matrix(cofm_elem, self.nrow)\n",
        "          return cofm_mat\n",
        "    \n",
        "    # Inverse matrix (see the inverse definition after buiding the cofactor matrix: \n",
        "    #                 https://en.wikipedia.org/wiki/Minor_(linear_algebra))\n",
        "    def inv(self):\n",
        "        \"\"\"\n",
        "        inv:\n",
        "            Computes Inverse Matrix using cofactor matrix\n",
        "            \n",
        "            Receives:\n",
        "                Matrix\n",
        "                \n",
        "            Returns:\n",
        "                Matrix or error if matrix is singular or not square.\n",
        "        \"\"\"\n",
        "        if self.dim[0] != self.dim[1]:\n",
        "          raise ValueError('Error. Matrix is not square.')\n",
        "        elif self.det() == 0:\n",
        "          raise ValueError('Error. Matrix is singular.')\n",
        "        else:\n",
        "          x = (self.det())**(-1)\n",
        "          C_t = self.cofm().t()\n",
        "          inv_mat = C_t * x\n",
        "        return inv_mat"
      ],
      "id": "622aa578",
      "execution_count": 4,
      "outputs": []
    },
    {
      "cell_type": "markdown",
      "metadata": {
        "id": "364EodBAvc4e"
      },
      "source": [
        "### Part 2: A function for OLS estimator using the Matrix class"
      ],
      "id": "364EodBAvc4e"
    },
    {
      "cell_type": "code",
      "metadata": {
        "id": "pOL98kjHJdkN"
      },
      "source": [
        "def OLS(X, Y):\n",
        "  \"\"\"\n",
        "  OLS estimator:\n",
        "                Computes the regression coeffcients estimates using Ordinary Least Squares\n",
        "\n",
        "                Receives:\n",
        "                    X: A Matrix class object of observations (independent variables)\n",
        "                    y: A Matrix class object of outcomes (dependent variables)\n",
        "                \n",
        "                Returns:\n",
        "                    A list of OLS regression coefficients\n",
        "                    Error if the number of outcomes does not match the number of observations\n",
        "  \"\"\"\n",
        "  if Y.dim[0] != X.dim[0]:\n",
        "    raise ValueError('Error. Dimensions do not conform')\n",
        "  else:\n",
        "    XTX = X.t() ** X\n",
        "    XTX_inv = XTX.inv()\n",
        "    XTX_invXT = XTX_inv ** X.t()\n",
        "\n",
        "    beta = XTX_invXT ** Y\n",
        "  return beta"
      ],
      "id": "pOL98kjHJdkN",
      "execution_count": 5,
      "outputs": []
    },
    {
      "cell_type": "markdown",
      "metadata": {
        "id": "ho2rHrQZv5k2"
      },
      "source": [
        "### Part 3: Demonstration of the Matrix class and OLS estimator function"
      ],
      "id": "ho2rHrQZv5k2"
    },
    {
      "cell_type": "markdown",
      "metadata": {
        "id": "I9z00xgfwEEm"
      },
      "source": [
        "#### 1. Matrix representation and basic calculation (Q1 - Q6)"
      ],
      "id": "I9z00xgfwEEm"
    },
    {
      "cell_type": "code",
      "metadata": {
        "id": "c33gzzKewaV-"
      },
      "source": [
        "m1 = Matrix([1,2,3,2,3,5,2,4,5], 3)\n",
        "m2 = Matrix([1,3,4,5,4,5], 2)\n",
        "m3 = Matrix([1,3,4,5,3,2], 3)\n",
        "m4 = Matrix([1,2,4,2,3,5,2,4,5], 3)\n"
      ],
      "id": "c33gzzKewaV-",
      "execution_count": 9,
      "outputs": []
    },
    {
      "cell_type": "code",
      "metadata": {
        "colab": {
          "base_uri": "https://localhost:8080/"
        },
        "id": "d8jktf0fxRfx",
        "outputId": "25da5ead-afc9-4431-a19f-ef2028c95ea1"
      },
      "source": [
        "m1"
      ],
      "id": "d8jktf0fxRfx",
      "execution_count": 12,
      "outputs": [
        {
          "output_type": "execute_result",
          "data": {
            "text/plain": [
              "Matrix dimension [3, 3]"
            ]
          },
          "metadata": {},
          "execution_count": 12
        }
      ]
    },
    {
      "cell_type": "code",
      "metadata": {
        "colab": {
          "base_uri": "https://localhost:8080/"
        },
        "id": "GThoUnDtxTPg",
        "outputId": "216d2d2f-7b6d-40e5-d1ba-055d2bc3f71d"
      },
      "source": [
        "print(m1)"
      ],
      "id": "GThoUnDtxTPg",
      "execution_count": 15,
      "outputs": [
        {
          "output_type": "stream",
          "name": "stdout",
          "text": [
            "[1, 2, 3]\n",
            "[2, 3, 5]\n",
            "[2, 4, 5]\n"
          ]
        }
      ]
    },
    {
      "cell_type": "code",
      "metadata": {
        "colab": {
          "base_uri": "https://localhost:8080/"
        },
        "id": "qIokGluixVZY",
        "outputId": "e3332221-0c06-4010-a0cf-826f98d64048"
      },
      "source": [
        "print(m1 + m4)"
      ],
      "id": "qIokGluixVZY",
      "execution_count": 17,
      "outputs": [
        {
          "output_type": "stream",
          "name": "stdout",
          "text": [
            "[2, 4, 7]\n",
            "[4, 6, 10]\n",
            "[4, 8, 10]\n"
          ]
        }
      ]
    },
    {
      "cell_type": "code",
      "metadata": {
        "colab": {
          "base_uri": "https://localhost:8080/"
        },
        "id": "toGF_RDGxx9p",
        "outputId": "590b9205-e4d4-4e22-c055-a641af68ad8b"
      },
      "source": [
        "print(m1 - m4)"
      ],
      "id": "toGF_RDGxx9p",
      "execution_count": 18,
      "outputs": [
        {
          "output_type": "stream",
          "name": "stdout",
          "text": [
            "[0, 0, -1]\n",
            "[0, 0, 0]\n",
            "[0, 0, 0]\n"
          ]
        }
      ]
    },
    {
      "cell_type": "code",
      "metadata": {
        "colab": {
          "base_uri": "https://localhost:8080/"
        },
        "id": "58c9tGzxxyfg",
        "outputId": "648481fe-3bbb-47c4-948b-8fd6ff88772f"
      },
      "source": [
        "print(m1 * 2)"
      ],
      "id": "58c9tGzxxyfg",
      "execution_count": 19,
      "outputs": [
        {
          "output_type": "stream",
          "name": "stdout",
          "text": [
            "[2.0, 4.0, 6.0]\n",
            "[4.0, 6.0, 10.0]\n",
            "[4.0, 8.0, 10.0]\n"
          ]
        }
      ]
    },
    {
      "cell_type": "code",
      "metadata": {
        "colab": {
          "base_uri": "https://localhost:8080/"
        },
        "id": "mMFXznW0x3RI",
        "outputId": "bf5e57a6-4814-46bc-a53d-73dc9314922f"
      },
      "source": [
        "print(m2 ** m3)"
      ],
      "id": "mMFXznW0x3RI",
      "execution_count": 20,
      "outputs": [
        {
          "output_type": "stream",
          "name": "stdout",
          "text": [
            "[25, 26]\n",
            "[36, 45]\n"
          ]
        }
      ]
    },
    {
      "cell_type": "markdown",
      "metadata": {
        "id": "9IQXgT_GyATp"
      },
      "source": [
        "#### 2. Minor matrix, cofactor matrix, transpose, and inverse (Q7 - Q10)"
      ],
      "id": "9IQXgT_GyATp"
    },
    {
      "cell_type": "code",
      "metadata": {
        "colab": {
          "base_uri": "https://localhost:8080/"
        },
        "id": "T9igNldlyS5y",
        "outputId": "489bc124-5e31-4aed-8a1b-c123868ad988"
      },
      "source": [
        "# get the M_(1,1) minor matrix\n",
        "print(m1.subm(0,0))"
      ],
      "id": "T9igNldlyS5y",
      "execution_count": 21,
      "outputs": [
        {
          "output_type": "stream",
          "name": "stdout",
          "text": [
            "[3, 5]\n",
            "[4, 5]\n"
          ]
        }
      ]
    },
    {
      "cell_type": "code",
      "metadata": {
        "colab": {
          "base_uri": "https://localhost:8080/"
        },
        "id": "OVpMJpxFyh7C",
        "outputId": "35c33b97-72c0-43e2-a8bd-500cca5f07df"
      },
      "source": [
        "# get cofactor matrix\n",
        "print(m1.cofm())"
      ],
      "id": "OVpMJpxFyh7C",
      "execution_count": 22,
      "outputs": [
        {
          "output_type": "stream",
          "name": "stdout",
          "text": [
            "[-5, 0, 2]\n",
            "[2, -1, 0]\n",
            "[1, 1, -1]\n"
          ]
        }
      ]
    },
    {
      "cell_type": "code",
      "metadata": {
        "colab": {
          "base_uri": "https://localhost:8080/"
        },
        "id": "_xvTy0oOyqaq",
        "outputId": "3aa1c544-b55a-480a-9ffb-30c7818c6b44"
      },
      "source": [
        "# get matrix transpose\n",
        "print(m1.t())"
      ],
      "id": "_xvTy0oOyqaq",
      "execution_count": 23,
      "outputs": [
        {
          "output_type": "stream",
          "name": "stdout",
          "text": [
            "[1, 2, 2]\n",
            "[2, 3, 4]\n",
            "[3, 5, 5]\n"
          ]
        }
      ]
    },
    {
      "cell_type": "code",
      "metadata": {
        "colab": {
          "base_uri": "https://localhost:8080/"
        },
        "id": "XF7MUT7lyxbS",
        "outputId": "0a20c187-c517-4366-cd99-30edc3b7fb2e"
      },
      "source": [
        "# get inverse matrix\n",
        "print(m1.inv())"
      ],
      "id": "XF7MUT7lyxbS",
      "execution_count": 24,
      "outputs": [
        {
          "output_type": "stream",
          "name": "stdout",
          "text": [
            "[-5.0, 2.0, 1.0]\n",
            "[0.0, -1.0, 1.0]\n",
            "[2.0, 0.0, -1.0]\n"
          ]
        }
      ]
    },
    {
      "cell_type": "markdown",
      "metadata": {
        "id": "nFiEQY_9zGcc"
      },
      "source": [
        "#### 3. Regression coefficient estimates using OLS estimator (Q11)"
      ],
      "id": "nFiEQY_9zGcc"
    },
    {
      "cell_type": "code",
      "metadata": {
        "colab": {
          "base_uri": "https://localhost:8080/"
        },
        "id": "bRXDX3N2zV6j",
        "outputId": "f0d1d275-7330-4a46-bd08-ac8ac066deec"
      },
      "source": [
        "X = Matrix([1, -4, 0, 1, -3, 0, 1, -2, 0, 1, -1, 0, 1, 0, 0, 1, 1, 1, 1, 2, 1, 1, 3, 1, 1, 4, 1, 1, 5, 1], 10)\n",
        "Y = Matrix([-3.56518269407931, -2.96460021969053, -1.48659413971178, 0.700322671620325, 0.902347734124384, 1.29721825127923, 1.92302031156774, 3.88376671356276, 2.23958110933972, 6.5610333044646], 10)\n",
        "\n",
        "OLS_coef = OLS(X,Y)\n",
        "print(OLS_coef)"
      ],
      "id": "bRXDX3N2zV6j",
      "execution_count": 26,
      "outputs": [
        {
          "output_type": "stream",
          "name": "stdout",
          "text": [
            "[1.0616761356387139]\n",
            "[1.1722087325930484]\n",
            "[-1.3973783953750487]\n"
          ]
        }
      ]
    },
    {
      "cell_type": "markdown",
      "metadata": {
        "id": "DayasRfTzxeV"
      },
      "source": [
        "## That's all. Thank you!"
      ],
      "id": "DayasRfTzxeV"
    }
  ]
}
