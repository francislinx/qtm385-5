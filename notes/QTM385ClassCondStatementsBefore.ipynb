{
 "cells": [
  {
   "cell_type": "markdown",
   "metadata": {},
   "source": [
    "# QTM 385\n",
    "\n",
    "> Statements, Conditional Statements, While Loops"
   ]
  },
  {
   "cell_type": "code",
   "execution_count": 3,
   "metadata": {},
   "outputs": [
    {
     "data": {
      "text/plain": [
       "True"
      ]
     },
     "execution_count": 3,
     "metadata": {},
     "output_type": "execute_result"
    }
   ],
   "source": [
    "c1 = 1 > 2\n",
    "c2 = 2 < 3\n",
    "c1 or c2"
   ]
  },
  {
   "cell_type": "markdown",
   "metadata": {},
   "source": [
    "## Python Hierarchy\n",
    "\n",
    "1. Programs are composed of modules.\n",
    "\n",
    "2. Modules contain statements.\n",
    "\n",
    "3. Statements contain expressions.\n",
    "\n",
    "4. Expressions create and process objects.\n",
    "\n",
    "**Statements**: things you tell Python it should do."
   ]
  },
  {
   "cell_type": "code",
   "execution_count": 10,
   "metadata": {},
   "outputs": [
    {
     "name": "stdout",
     "output_type": "stream",
     "text": [
      "123456789012345678 00\n",
      "you really like to write!\n"
     ]
    }
   ],
   "source": [
    "if len(input('').strip())>20:\n",
    "    print('you really like to write!')"
   ]
  },
  {
   "cell_type": "markdown",
   "metadata": {},
   "source": [
    "## Types of Statements\n",
    "\n",
    "There are several types of statements in Python:\n",
    "\n",
    "| Statement                   | Role                         |\n",
    "|-----------------------------|------------------------------|\n",
    "| Assignment                  | Creating references          |\n",
    "| Calls and other expressions | Running functions            |\n",
    "| print calls                 | Printing objects             |\n",
    "| if/elif/else                | Selecting actions            |\n",
    "| for/else                    | Iteration                    |\n",
    "| while/else                  | General loops                |\n",
    "| pass                        | Empty placeholder            |\n",
    "| break                       | Loop exit                    |\n",
    "| continue                    | Loop continue                |\n",
    "| def                         | Functions and methods        |\n",
    "| return                      | Functions results            |\n",
    "| yield                       | Generator functions          |\n",
    "| global                      | Namespaces                   |\n",
    "| nonlocal                    | Namespaces (3.X)             |\n",
    "| import                      | Module access                |\n",
    "| from                        | Attribute access             |\n",
    "| class                       | Building objects             |\n",
    "| try/except/ finally         | Catching exceptions          |\n",
    "| raise                       | Triggering exceptions        |\n",
    "| assert                      | Debugging checks             |\n",
    "| with/as                     | Context managers (3.X, 2.6+) |\n",
    "| del                         | Deleting references          |\n",
    "\n",
    "Each statement has its own specific purpose and its own operation rules. We did learn some of those by now. We will learn some more.\n",
    "\n",
    "## Today's Agenda\n",
    "\n",
    "1. Perfecting if-else (if-elif-else)\n",
    "\n",
    "2. Learn boolean types\n",
    "\n",
    "3. Learn `while` loops\n",
    "\n",
    "****"
   ]
  },
  {
   "cell_type": "markdown",
   "metadata": {},
   "source": [
    "## If-elif-else"
   ]
  },
  {
   "cell_type": "markdown",
   "metadata": {},
   "source": [
    "The basic syntax for this is:\n",
    "\n",
    "```\n",
    "if test1:                 # if test\n",
    "    statements1           # Associated block\n",
    "elif test2:               # Optional elifs\n",
    "    statements2\n",
    "else:                     # Optional else\n",
    "    statements3\n",
    "```"
   ]
  },
  {
   "cell_type": "code",
   "execution_count": 1,
   "metadata": {},
   "outputs": [],
   "source": []
  },
  {
   "cell_type": "markdown",
   "metadata": {},
   "source": [
    "**Exercise**: A paper just out at [PLOS One](https://journals.plos.org/plosone/article?id=10.1371/journal.pone.0247023) showed that people with low or high BMI have higher chance of severe COVID. Create an if-elif-else to warn the person."
   ]
  },
  {
   "cell_type": "code",
   "execution_count": 14,
   "metadata": {},
   "outputs": [
    {
     "name": "stdout",
     "output_type": "stream",
     "text": [
      "20\n",
      "you good\n"
     ]
    }
   ],
   "source": [
    "x = int(input())\n",
    "if x < 18:\n",
    "    print('you have covid')\n",
    "elif x > 30:\n",
    "    print('you have covid')\n",
    "else:\n",
    "    print('you good')"
   ]
  },
  {
   "cell_type": "markdown",
   "metadata": {},
   "source": [
    "### Memberships and ifs"
   ]
  },
  {
   "cell_type": "code",
   "execution_count": 16,
   "metadata": {},
   "outputs": [
    {
     "name": "stdout",
     "output_type": "stream",
     "text": [
      "18\n"
     ]
    }
   ],
   "source": [
    "D = {\n",
    "    'low': 18,\n",
    "    'ok': 25,\n",
    "    'high': 35\n",
    "}\n",
    "\n",
    "if 'low' in D:\n",
    "    print(D['low'])"
   ]
  },
  {
   "cell_type": "markdown",
   "metadata": {},
   "source": [
    "### Try-except"
   ]
  },
  {
   "cell_type": "code",
   "execution_count": 17,
   "metadata": {},
   "outputs": [
    {
     "name": "stdout",
     "output_type": "stream",
     "text": [
      "not good\n"
     ]
    }
   ],
   "source": [
    "try:\n",
    "    D['j']\n",
    "except KeyError:\n",
    "    print('not good')"
   ]
  },
  {
   "cell_type": "markdown",
   "metadata": {},
   "source": [
    "## Boolean"
   ]
  },
  {
   "cell_type": "code",
   "execution_count": 5,
   "metadata": {},
   "outputs": [],
   "source": []
  },
  {
   "cell_type": "markdown",
   "metadata": {},
   "source": [
    "**Exercise**: Rewrite the previous warning exercise using only two lines. One for the BMI, and the other for the warning."
   ]
  },
  {
   "cell_type": "code",
   "execution_count": 6,
   "metadata": {},
   "outputs": [],
   "source": [
    "## Your answers here!"
   ]
  },
  {
   "cell_type": "markdown",
   "metadata": {},
   "source": [
    "## `while`"
   ]
  },
  {
   "cell_type": "markdown",
   "metadata": {},
   "source": [
    "The basic syntax for the `while` loop is:\n",
    "\n",
    "```\n",
    "while test:                     # Loop test\n",
    "    statements                  # Loop body\n",
    "else:                           # Optional else\n",
    "    statements                  # Run if didn't exit loop with break\n",
    "```"
   ]
  },
  {
   "cell_type": "code",
   "execution_count": 7,
   "metadata": {},
   "outputs": [],
   "source": [
    "# My code here!"
   ]
  },
  {
   "cell_type": "markdown",
   "metadata": {},
   "source": [
    "### Customizing the `while` loop\n",
    "\n",
    "There are several statements that we can use to make the `while` loop behave in the way we want:\n",
    "\n",
    "1. **break**: stops execution\n",
    "2. **continue**: jumps to the header.\n",
    "3. **pass**: does nothing, just keep going.\n",
    "4. loop **else** block: add an else block at the end of the loop\n",
    "\n",
    "And the basic syntax is:\n",
    "\n",
    "```\n",
    "while test:\n",
    "    statements\n",
    "    if test: break                 # Exit loop now, skip else if present\n",
    "    if test: continue              # Go to test at top of loop now\n",
    "else:\n",
    "    statements                     # Run if we didn't hit a 'break'\n",
    "```"
   ]
  },
  {
   "cell_type": "code",
   "execution_count": 19,
   "metadata": {},
   "outputs": [
    {
     "name": "stdout",
     "output_type": "stream",
     "text": [
      "0\n",
      "1\n",
      "2\n",
      "3\n",
      "4\n",
      "5\n",
      "6\n",
      "7\n",
      "8\n",
      "9\n"
     ]
    }
   ],
   "source": [
    "count = 0\n",
    "\n",
    "while count < 10:\n",
    "    print(count)\n",
    "    count += 1"
   ]
  },
  {
   "cell_type": "markdown",
   "metadata": {},
   "source": [
    "### continue"
   ]
  },
  {
   "cell_type": "code",
   "execution_count": 9,
   "metadata": {},
   "outputs": [],
   "source": []
  },
  {
   "cell_type": "markdown",
   "metadata": {},
   "source": [
    "### break"
   ]
  },
  {
   "cell_type": "code",
   "execution_count": 10,
   "metadata": {},
   "outputs": [],
   "source": [
    "# My code here"
   ]
  },
  {
   "cell_type": "markdown",
   "metadata": {},
   "source": [
    "### loop-else"
   ]
  },
  {
   "cell_type": "code",
   "execution_count": 25,
   "metadata": {},
   "outputs": [
    {
     "data": {
      "text/plain": [
       "2"
      ]
     },
     "execution_count": 25,
     "metadata": {},
     "output_type": "execute_result"
    }
   ],
   "source": [
    "x =20"
   ]
  },
  {
   "cell_type": "markdown",
   "metadata": {},
   "source": [
    "**Exercise**: Create a loop from 1 to 100 (increasing), that displays all the multiples of 2, 3, and 5."
   ]
  },
  {
   "cell_type": "code",
   "execution_count": 5,
   "metadata": {},
   "outputs": [
    {
     "name": "stdout",
     "output_type": "stream",
     "text": [
      "2\n",
      "3\n",
      "4\n",
      "5\n",
      "6\n",
      "8\n",
      "9\n",
      "10\n",
      "12\n",
      "14\n",
      "15\n",
      "16\n",
      "18\n",
      "20\n",
      "21\n",
      "22\n",
      "24\n",
      "25\n",
      "26\n",
      "27\n",
      "28\n",
      "30\n",
      "32\n",
      "33\n",
      "34\n",
      "35\n",
      "36\n",
      "38\n",
      "39\n",
      "40\n",
      "42\n",
      "44\n",
      "45\n",
      "46\n",
      "48\n",
      "50\n",
      "51\n",
      "52\n",
      "54\n",
      "55\n",
      "56\n",
      "57\n",
      "58\n",
      "60\n",
      "62\n",
      "63\n",
      "64\n",
      "65\n",
      "66\n",
      "68\n",
      "69\n",
      "70\n",
      "72\n",
      "74\n",
      "75\n",
      "76\n",
      "78\n",
      "80\n",
      "81\n",
      "82\n",
      "84\n",
      "85\n",
      "86\n",
      "87\n",
      "88\n",
      "90\n",
      "92\n",
      "93\n",
      "94\n",
      "95\n",
      "96\n",
      "98\n",
      "99\n",
      "100\n"
     ]
    }
   ],
   "source": [
    "x = 0\n",
    "while x <= 99:\n",
    "    x = x + 1\n",
    "    if x % 2 == 0 or x % 3 == 0 or x % 5 == 0:\n",
    "        print(x)"
   ]
  },
  {
   "cell_type": "markdown",
   "metadata": {},
   "source": [
    "## Counting lines in a book"
   ]
  },
  {
   "cell_type": "markdown",
   "metadata": {},
   "source": [
    "### Project Gutenberg\n",
    "\n",
    "Project Gutenberg is a website with many open books on it. You can check it out using the following URL: https://www.gutenberg.org"
   ]
  },
  {
   "cell_type": "markdown",
   "metadata": {},
   "source": [
    "### Find working directory"
   ]
  },
  {
   "cell_type": "code",
   "execution_count": 13,
   "metadata": {},
   "outputs": [],
   "source": [
    "# My code here"
   ]
  },
  {
   "cell_type": "markdown",
   "metadata": {},
   "source": [
    "### Open file and counting lines"
   ]
  },
  {
   "cell_type": "code",
   "execution_count": 14,
   "metadata": {},
   "outputs": [],
   "source": [
    "# My code here"
   ]
  },
  {
   "cell_type": "markdown",
   "metadata": {},
   "source": [
    "**Exercise**: Now count how many characters you have in the book."
   ]
  },
  {
   "cell_type": "code",
   "execution_count": 15,
   "metadata": {},
   "outputs": [],
   "source": [
    "## Your answers here!"
   ]
  },
  {
   "cell_type": "markdown",
   "metadata": {},
   "source": [
    "**Great job!!!**"
   ]
  }
 ],
 "metadata": {
  "kernelspec": {
   "display_name": "Python 3",
   "language": "python",
   "name": "python3"
  },
  "language_info": {
   "codemirror_mode": {
    "name": "ipython",
    "version": 3
   },
   "file_extension": ".py",
   "mimetype": "text/x-python",
   "name": "python",
   "nbconvert_exporter": "python",
   "pygments_lexer": "ipython3",
   "version": "3.8.8"
  }
 },
 "nbformat": 4,
 "nbformat_minor": 4
}
